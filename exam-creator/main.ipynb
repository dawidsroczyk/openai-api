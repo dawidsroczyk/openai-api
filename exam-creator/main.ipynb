{
 "cells": [
  {
   "cell_type": "code",
   "execution_count": 4,
   "metadata": {},
   "outputs": [],
   "source": [
    "import os\n",
    "import openai\n",
    "import time\n",
    "from exam_creator import *"
   ]
  },
  {
   "cell_type": "markdown",
   "metadata": {},
   "source": [
    "## Set API key and create client"
   ]
  },
  {
   "cell_type": "code",
   "execution_count": 3,
   "metadata": {},
   "outputs": [],
   "source": [
    "openai.api_key = os.getenv('OPENAI_API_KEY')\n",
    "client = openai.Client()"
   ]
  },
  {
   "cell_type": "markdown",
   "metadata": {},
   "source": [
    "## Create ExamCreator object"
   ]
  },
  {
   "cell_type": "code",
   "execution_count": 6,
   "metadata": {},
   "outputs": [],
   "source": [
    "creator = ExamCreator()\n",
    "creator.topic = 'chemistry'\n",
    "creator.num_questions = 5\n",
    "creator.num_possible_answers = 4\n",
    "creator.client = client"
   ]
  },
  {
   "cell_type": "markdown",
   "metadata": {},
   "source": [
    "### Create exam"
   ]
  },
  {
   "cell_type": "code",
   "execution_count": 7,
   "metadata": {},
   "outputs": [],
   "source": [
    "student_view, answers = creator.create_exam()"
   ]
  },
  {
   "cell_type": "code",
   "execution_count": 12,
   "metadata": {},
   "outputs": [
    {
     "data": {
      "text/plain": [
       "{1: '   Correct Answer: A\\n',\n",
       " 2: '   Correct Answer: C\\n',\n",
       " 3: '   Correct Answer: A\\n',\n",
       " 4: '   Correct Answer: B\\n',\n",
       " 5: '   Correct Answer: C\\n'}"
      ]
     },
     "execution_count": 12,
     "metadata": {},
     "output_type": "execute_result"
    }
   ],
   "source": [
    "answers"
   ]
  },
  {
   "cell_type": "markdown",
   "metadata": {},
   "source": [
    "### Take an exam"
   ]
  },
  {
   "cell_type": "code",
   "execution_count": 13,
   "metadata": {},
   "outputs": [
    {
     "name": "stdout",
     "output_type": "stream",
     "text": [
      "1. What is the chemical symbol for gold?  \n",
      "   A) Au  \n",
      "   B) Ag  \n",
      "   C) Pb  \n",
      "   D) Fe  \n",
      "\n",
      "\n",
      "2. Which of the following is a noble gas?  \n",
      "   A) Oxygen  \n",
      "   B) Nitrogen  \n",
      "   C) Helium  \n",
      "   D) Chlorine  \n",
      "\n",
      "\n",
      "3. What is the pH level of pure water at 25°C?  \n",
      "   A) 7  \n",
      "   B) 14  \n",
      "   C) 0  \n",
      "   D) 3  \n",
      "\n",
      "\n",
      "4. What type of bond involves the sharing of electron pairs between atoms?  \n",
      "   A) Ionic bond  \n",
      "   B) Covalent bond  \n",
      "   C) Metallic bond  \n",
      "   D) Hydrogen bond  \n",
      "\n",
      "\n",
      "5. Which of the following elements is a halogen?  \n",
      "   A) Sodium  \n",
      "   B) Calcium  \n",
      "   C) Fluorine  \n",
      "   D) Magnesium  \n",
      "\n"
     ]
    }
   ],
   "source": [
    "student_answers = take(student_view)"
   ]
  },
  {
   "cell_type": "code",
   "execution_count": 14,
   "metadata": {},
   "outputs": [
    {
     "data": {
      "text/plain": [
       "{1: 'a', 2: 'b', 3: 'a', 4: 'b', 5: 'a'}"
      ]
     },
     "execution_count": 14,
     "metadata": {},
     "output_type": "execute_result"
    }
   ],
   "source": [
    "student_answers"
   ]
  },
  {
   "cell_type": "markdown",
   "metadata": {},
   "source": [
    "### Evaluate answers"
   ]
  },
  {
   "cell_type": "code",
   "execution_count": 15,
   "metadata": {},
   "outputs": [
    {
     "data": {
      "text/plain": [
       "'3/5 correct! You got 60.0 grade, PASS!'"
      ]
     },
     "execution_count": 15,
     "metadata": {},
     "output_type": "execute_result"
    }
   ],
   "source": [
    "grade(answers, student_answers)"
   ]
  }
 ],
 "metadata": {
  "kernelspec": {
   "display_name": "linReg",
   "language": "python",
   "name": "python3"
  },
  "language_info": {
   "codemirror_mode": {
    "name": "ipython",
    "version": 3
   },
   "file_extension": ".py",
   "mimetype": "text/x-python",
   "name": "python",
   "nbconvert_exporter": "python",
   "pygments_lexer": "ipython3",
   "version": "3.11.4"
  }
 },
 "nbformat": 4,
 "nbformat_minor": 2
}
