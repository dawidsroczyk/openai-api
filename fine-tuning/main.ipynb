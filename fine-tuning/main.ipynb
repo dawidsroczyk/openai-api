{
 "cells": [
  {
   "cell_type": "code",
   "execution_count": 12,
   "metadata": {},
   "outputs": [],
   "source": [
    "import json\n",
    "import os\n",
    "import pandas as pd\n",
    "import openai"
   ]
  },
  {
   "cell_type": "markdown",
   "metadata": {},
   "source": [
    "## Create jsonl file from csv file"
   ]
  },
  {
   "cell_type": "markdown",
   "metadata": {},
   "source": [
    "OpenAI fine tuning requires fine tuning data to be jsonl file\n",
    "\n",
    "where messages are int the same format as in completion API"
   ]
  },
  {
   "cell_type": "code",
   "execution_count": 3,
   "metadata": {},
   "outputs": [],
   "source": [
    "df = pd.read_csv('python_qa.csv')"
   ]
  },
  {
   "cell_type": "code",
   "execution_count": 4,
   "metadata": {},
   "outputs": [
    {
     "data": {
      "text/html": [
       "<div>\n",
       "<style scoped>\n",
       "    .dataframe tbody tr th:only-of-type {\n",
       "        vertical-align: middle;\n",
       "    }\n",
       "\n",
       "    .dataframe tbody tr th {\n",
       "        vertical-align: top;\n",
       "    }\n",
       "\n",
       "    .dataframe thead th {\n",
       "        text-align: right;\n",
       "    }\n",
       "</style>\n",
       "<table border=\"1\" class=\"dataframe\">\n",
       "  <thead>\n",
       "    <tr style=\"text-align: right;\">\n",
       "      <th></th>\n",
       "      <th>Id</th>\n",
       "      <th>OwnerUserId</th>\n",
       "      <th>CreationDate</th>\n",
       "      <th>ClosedDate</th>\n",
       "      <th>Score</th>\n",
       "      <th>Title</th>\n",
       "      <th>Body</th>\n",
       "      <th>ParentId</th>\n",
       "      <th>Answer</th>\n",
       "    </tr>\n",
       "  </thead>\n",
       "  <tbody>\n",
       "    <tr>\n",
       "      <th>0</th>\n",
       "      <td>11060</td>\n",
       "      <td>912.0</td>\n",
       "      <td>2008-08-14T13:59:21Z</td>\n",
       "      <td>NaN</td>\n",
       "      <td>18</td>\n",
       "      <td>How should I unit test a code-generator?</td>\n",
       "      <td>This is a difficult and open-ended question I ...</td>\n",
       "      <td>11060</td>\n",
       "      <td>I started writing up a summary of my experienc...</td>\n",
       "    </tr>\n",
       "    <tr>\n",
       "      <th>1</th>\n",
       "      <td>17250</td>\n",
       "      <td>394.0</td>\n",
       "      <td>2008-08-20T00:16:40Z</td>\n",
       "      <td>NaN</td>\n",
       "      <td>24</td>\n",
       "      <td>Create an encrypted ZIP file in Python</td>\n",
       "      <td>I'm creating an ZIP file with ZipFile in Pytho...</td>\n",
       "      <td>17250</td>\n",
       "      <td>I created a simple library to create a passwor...</td>\n",
       "    </tr>\n",
       "    <tr>\n",
       "      <th>2</th>\n",
       "      <td>31340</td>\n",
       "      <td>242853.0</td>\n",
       "      <td>2008-08-27T23:44:47Z</td>\n",
       "      <td>NaN</td>\n",
       "      <td>71</td>\n",
       "      <td>How do threads work in Python, and what are co...</td>\n",
       "      <td>I've been trying to wrap my head around how th...</td>\n",
       "      <td>31340</td>\n",
       "      <td>Yes, because of the Global Interpreter Lock (G...</td>\n",
       "    </tr>\n",
       "    <tr>\n",
       "      <th>3</th>\n",
       "      <td>34020</td>\n",
       "      <td>3561.0</td>\n",
       "      <td>2008-08-29T05:43:16Z</td>\n",
       "      <td>NaN</td>\n",
       "      <td>17</td>\n",
       "      <td>Are Python threads buggy?</td>\n",
       "      <td>A reliable coder friend told me that Python's ...</td>\n",
       "      <td>34020</td>\n",
       "      <td>Python threads are good for concurrent I/O pro...</td>\n",
       "    </tr>\n",
       "    <tr>\n",
       "      <th>4</th>\n",
       "      <td>34570</td>\n",
       "      <td>577.0</td>\n",
       "      <td>2008-08-29T16:10:41Z</td>\n",
       "      <td>2011-11-08T16:11:43Z</td>\n",
       "      <td>13</td>\n",
       "      <td>What is the best quick-read Python book out th...</td>\n",
       "      <td>I am taking a class that requires Python. We w...</td>\n",
       "      <td>34570</td>\n",
       "      <td>I loved Dive Into Python, especially if you're...</td>\n",
       "    </tr>\n",
       "  </tbody>\n",
       "</table>\n",
       "</div>"
      ],
      "text/plain": [
       "      Id  OwnerUserId          CreationDate            ClosedDate  Score  \\\n",
       "0  11060        912.0  2008-08-14T13:59:21Z                   NaN     18   \n",
       "1  17250        394.0  2008-08-20T00:16:40Z                   NaN     24   \n",
       "2  31340     242853.0  2008-08-27T23:44:47Z                   NaN     71   \n",
       "3  34020       3561.0  2008-08-29T05:43:16Z                   NaN     17   \n",
       "4  34570        577.0  2008-08-29T16:10:41Z  2011-11-08T16:11:43Z     13   \n",
       "\n",
       "                                               Title  \\\n",
       "0           How should I unit test a code-generator?   \n",
       "1             Create an encrypted ZIP file in Python   \n",
       "2  How do threads work in Python, and what are co...   \n",
       "3                          Are Python threads buggy?   \n",
       "4  What is the best quick-read Python book out th...   \n",
       "\n",
       "                                                Body  ParentId  \\\n",
       "0  This is a difficult and open-ended question I ...     11060   \n",
       "1  I'm creating an ZIP file with ZipFile in Pytho...     17250   \n",
       "2  I've been trying to wrap my head around how th...     31340   \n",
       "3  A reliable coder friend told me that Python's ...     34020   \n",
       "4  I am taking a class that requires Python. We w...     34570   \n",
       "\n",
       "                                              Answer  \n",
       "0  I started writing up a summary of my experienc...  \n",
       "1  I created a simple library to create a passwor...  \n",
       "2  Yes, because of the Global Interpreter Lock (G...  \n",
       "3  Python threads are good for concurrent I/O pro...  \n",
       "4  I loved Dive Into Python, especially if you're...  "
      ]
     },
     "execution_count": 4,
     "metadata": {},
     "output_type": "execute_result"
    }
   ],
   "source": [
    "df.head()"
   ]
  },
  {
   "cell_type": "code",
   "execution_count": 5,
   "metadata": {},
   "outputs": [],
   "source": [
    "questions, answers = df['Body'], df['Answer']"
   ]
  },
  {
   "cell_type": "code",
   "execution_count": 6,
   "metadata": {},
   "outputs": [
    {
     "data": {
      "text/plain": [
       "0    This is a difficult and open-ended question I ...\n",
       "1    I'm creating an ZIP file with ZipFile in Pytho...\n",
       "2    I've been trying to wrap my head around how th...\n",
       "3    A reliable coder friend told me that Python's ...\n",
       "4    I am taking a class that requires Python. We w...\n",
       "Name: Body, dtype: object"
      ]
     },
     "execution_count": 6,
     "metadata": {},
     "output_type": "execute_result"
    }
   ],
   "source": [
    "questions.head()"
   ]
  },
  {
   "cell_type": "code",
   "execution_count": 7,
   "metadata": {},
   "outputs": [
    {
     "data": {
      "text/plain": [
       "0    I started writing up a summary of my experienc...\n",
       "1    I created a simple library to create a passwor...\n",
       "2    Yes, because of the Global Interpreter Lock (G...\n",
       "3    Python threads are good for concurrent I/O pro...\n",
       "4    I loved Dive Into Python, especially if you're...\n",
       "Name: Answer, dtype: object"
      ]
     },
     "execution_count": 7,
     "metadata": {},
     "output_type": "execute_result"
    }
   ],
   "source": [
    "answers.head()"
   ]
  },
  {
   "cell_type": "code",
   "execution_count": 19,
   "metadata": {},
   "outputs": [],
   "source": [
    "qa_openai_format = [{'messages': [{'role': 'user', 'content': q}, {'role':'assistant', 'content': a}]} for q, a in zip(questions, answers)]"
   ]
  },
  {
   "cell_type": "code",
   "execution_count": 21,
   "metadata": {},
   "outputs": [
    {
     "name": "stdout",
     "output_type": "stream",
     "text": [
      "{'messages': [{'role': 'user', 'content': 'I\\'m creating an ZIP file with ZipFile in Python 2.5, it works ok so far:\\n\\nimport zipfile, os\\n\\nlocfile = \"test.txt\"\\nloczip = os.path.splitext (locfile)[0] + \".zip\"\\nzip = zipfile.ZipFile (loczip, \"w\")\\nzip.write (locfile)\\nzip.close()\\n\\n\\nbut I couldn\\'t find how to encrypt the files in the ZIP file.\\nI could use system and call PKZIP -s, but I suppose there must be a more \"Pythonic\" way.  I\\'m looking for an open source solution.\\n'}, {'role': 'assistant', 'content': 'I created a simple library to create a password encrypted zip file in python. - here\\n\\nimport pyminizip\\n\\ncompression_level = 5 # 1-9\\npyminizip.compress(\"src.txt\", \"dst.zip\", \"password\", compression_level)\\n\\n\\nThe library requires zlib.\\n\\nI have checked that the file can be extracted in WINDOWS/MAC.\\n'}]}\n"
     ]
    }
   ],
   "source": [
    "print(qa_openai_format[1])"
   ]
  },
  {
   "cell_type": "code",
   "execution_count": 22,
   "metadata": {},
   "outputs": [
    {
     "data": {
      "text/plain": [
       "4429"
      ]
     },
     "execution_count": 22,
     "metadata": {},
     "output_type": "execute_result"
    }
   ],
   "source": [
    "len(qa_openai_format)"
   ]
  },
  {
   "cell_type": "code",
   "execution_count": 31,
   "metadata": {},
   "outputs": [],
   "source": [
    "with open(\"training_data.jsonl\", \"w\") as f:\n",
    "    for entry in qa_openai_format[:dataset_size]:\n",
    "        f.write(json.dumps(entry) + \"\\n\")"
   ]
  },
  {
   "cell_type": "markdown",
   "metadata": {},
   "source": [
    "## Connect to openAI API"
   ]
  },
  {
   "cell_type": "code",
   "execution_count": 27,
   "metadata": {},
   "outputs": [],
   "source": [
    "openai.api_key = os.getenv('OPENAI_API_KEY')\n",
    "client = openai.Client()"
   ]
  },
  {
   "cell_type": "markdown",
   "metadata": {},
   "source": [
    "## Fine tune model"
   ]
  },
  {
   "cell_type": "code",
   "execution_count": null,
   "metadata": {},
   "outputs": [],
   "source": [
    "client.files.create(\n",
    "    file=open('training_data.jsonl', 'rb'),\n",
    "    purpose='fine-tune'\n",
    ")"
   ]
  },
  {
   "cell_type": "code",
   "execution_count": null,
   "metadata": {},
   "outputs": [],
   "source": [
    "client.fine_tuning.jobs.create(\n",
    "    training_file='--- id of uploaded file ---',\n",
    "    model='gpt-4o-mini-2024-07-18'\n",
    ")"
   ]
  },
  {
   "cell_type": "code",
   "execution_count": null,
   "metadata": {},
   "outputs": [],
   "source": [
    "client.fine_tuning.jobs.retrieve('--- job id ---')"
   ]
  },
  {
   "cell_type": "markdown",
   "metadata": {},
   "source": [
    "## Compare responses"
   ]
  },
  {
   "cell_type": "code",
   "execution_count": 57,
   "metadata": {},
   "outputs": [],
   "source": [
    "prompt = 'What are good python books?'"
   ]
  },
  {
   "cell_type": "code",
   "execution_count": 58,
   "metadata": {},
   "outputs": [],
   "source": [
    "response = client.chat.completions.create(\n",
    "            model='gpt-4o-mini',\n",
    "            messages=[\n",
    "                {\n",
    "                    'role': 'user',\n",
    "                    'content': prompt\n",
    "                }\n",
    "            ],\n",
    "            temperature=0.7,\n",
    "            max_tokens=512,\n",
    "            top_p=1.0,\n",
    "            frequency_penalty=0,\n",
    "            presence_penalty=0\n",
    "        )"
   ]
  },
  {
   "cell_type": "code",
   "execution_count": 61,
   "metadata": {},
   "outputs": [
    {
     "name": "stdout",
     "output_type": "stream",
     "text": [
      "There are many excellent books for learning Python, catering to different skill levels and areas of interest. Here are some highly recommended titles:\n",
      "\n",
      "### For Beginners:\n",
      "1. **\"Automate the Boring Stuff with Python\" by Al Sweigart**  \n",
      "   - Focuses on practical programming for total beginners, teaching how to automate everyday tasks.\n",
      "\n",
      "2. **\"Python Crash Course\" by Eric Matthes**  \n",
      "   - A hands-on introduction to Python, covering basics and providing projects to apply your knowledge.\n",
      "\n",
      "3. **\"Head First Python\" by Paul Barry**  \n",
      "   - An engaging introduction to Python that uses a visual format to help learners understand concepts.\n",
      "\n",
      "### Intermediate:\n",
      "4. **\"Fluent Python\" by Luciano Ramalho**  \n",
      "   - Offers a deeper understanding of Python's features and libraries, focusing on writing idiomatic Python code.\n",
      "\n",
      "5. **\"Effective Python: 90 Specific Ways to Write Better Python\" by Brett Slatkin**  \n",
      "   - Contains practical tips and best practices for writing more effective and efficient Python code.\n",
      "\n",
      "### Advanced:\n",
      "6. **\"Python Cookbook\" by David Beazley and Brian K. Jones**  \n",
      "   - A collection of recipes for solving common Python programming problems, suitable for experienced programmers.\n",
      "\n",
      "7. **\"Designing Data-Intensive Applications\" by Martin Kleppmann**  \n",
      "   - While not solely about Python, this book covers data systems, which is invaluable for Python developers working with data.\n",
      "\n",
      "### Specialized Topics:\n",
      "8. **\"Deep Learning with Python\" by François Chollet**  \n",
      "   - Focuses on using Python and the Keras library for deep learning applications.\n",
      "\n",
      "9. **\"Python for Data Analysis\" by Wes McKinney**  \n",
      "   - A guide to using Python for data analysis, written by the creator of the Pandas library.\n",
      "\n",
      "10. **\"Learning Python\" by Mark Lutz**  \n",
      "    - A comprehensive guide that covers both basic and advanced topics in Python programming.\n",
      "\n",
      "### Reference:\n",
      "11. **\"The Python Language Reference\" by Python Software Foundation**  \n",
      "    - This is the official reference for Python, great for advanced users who want to understand the language's specifications.\n",
      "\n",
      "These books provide a solid foundation and various perspectives on Python programming, whether you're just starting out or looking to deepen your knowledge.\n"
     ]
    }
   ],
   "source": [
    "print(response.choices[0].message.content)"
   ]
  },
  {
   "cell_type": "code",
   "execution_count": null,
   "metadata": {},
   "outputs": [],
   "source": [
    "fine_tuned_response = client.chat.completions.create(\n",
    "            model='--- id of a fine tuned model ---',\n",
    "            messages=[\n",
    "                {\n",
    "                    'role': 'user',\n",
    "                    'content': prompt\n",
    "                }\n",
    "            ],\n",
    "            temperature=0.7,\n",
    "            max_tokens=512,\n",
    "            top_p=1.0,\n",
    "            frequency_penalty=0,\n",
    "            presence_penalty=0\n",
    "        )"
   ]
  },
  {
   "cell_type": "code",
   "execution_count": 63,
   "metadata": {},
   "outputs": [
    {
     "name": "stdout",
     "output_type": "stream",
     "text": [
      "There is a lot of good Python literature. It really depends on what you want to learn.\n",
      "\n",
      "If you want to learn the basics of programming, I highly recommend:\n",
      "\n",
      "How to Think Like a Computer Scientist: Learning with Python\n",
      "by Allen B. Downey, Jeffrey Elkner, and Chris Meyers\n",
      "\n",
      "\n",
      "If you want to learn the basics of Python, I recommend:\n",
      "\n",
      "Learning Python\n",
      "by Mark Lutz and David Ascher\n",
      "\n",
      "\n",
      "If you want to learn more advanced Python, I suggest:\n",
      "\n",
      "Python in a Nutshell\n",
      "by Alex Martelli, Anna Ravenscroft, and Steve Holden\n",
      "\n",
      "\n",
      "If you want to learn about how to think Pythonically, I propose:\n",
      "\n",
      "Python Cookbook\n",
      "by Alex Martelli, Anna Ravenscroft, and David Ascher\n",
      "\n",
      "\n",
      "If you want to get into the internals of the language, I suggest:\n",
      "\n",
      "Programming Python\n",
      "by Mark Lutz\n",
      "\n",
      "\n",
      "If you want to learn about specific modules, I recommend the O'Reilly series of Python Module of the Week.\n",
      "\n",
      "\n",
      "If you want to learn scientific Python, I suggest:\n",
      "\n",
      "Scientific Python\n",
      "by John M. Stewart\n",
      "\n",
      "\n",
      "If you want to learn about Django, I recommend:\n",
      "\n",
      "Django Book\n",
      "\n",
      "\n",
      "If you want to learn about Plone, I propose:\n",
      "\n",
      "The Definitive Plone Book\n",
      "by 1.0 and 3.0 Team\n",
      "\n",
      "\n",
      "This list is by no means exhaustive.\n",
      "\n"
     ]
    }
   ],
   "source": [
    "print(fine_tuned_response.choices[0].message.content)"
   ]
  },
  {
   "cell_type": "code",
   "execution_count": null,
   "metadata": {},
   "outputs": [],
   "source": []
  }
 ],
 "metadata": {
  "kernelspec": {
   "display_name": "linReg",
   "language": "python",
   "name": "python3"
  },
  "language_info": {
   "codemirror_mode": {
    "name": "ipython",
    "version": 3
   },
   "file_extension": ".py",
   "mimetype": "text/x-python",
   "name": "python",
   "nbconvert_exporter": "python",
   "pygments_lexer": "ipython3",
   "version": "3.11.4"
  }
 },
 "nbformat": 4,
 "nbformat_minor": 2
}
